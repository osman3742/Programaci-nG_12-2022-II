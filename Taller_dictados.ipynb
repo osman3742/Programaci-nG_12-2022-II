{
  "nbformat": 4,
  "nbformat_minor": 0,
  "metadata": {
    "colab": {
      "provenance": [],
      "authorship_tag": "ABX9TyNqwRkUY0E4cQyH5cQbb02q",
      "include_colab_link": true
    },
    "kernelspec": {
      "name": "python3",
      "display_name": "Python 3"
    },
    "language_info": {
      "name": "python"
    }
  },
  "cells": [
    {
      "cell_type": "markdown",
      "metadata": {
        "id": "view-in-github",
        "colab_type": "text"
      },
      "source": [
        "<a href=\"https://colab.research.google.com/github/osman3742/Programaci-nG_12-2022-II/blob/main/Taller_dictados.ipynb\" target=\"_parent\"><img src=\"https://colab.research.google.com/assets/colab-badge.svg\" alt=\"Open In Colab\"/></a>"
      ]
    },
    {
      "cell_type": "code",
      "execution_count": null,
      "metadata": {
        "id": "AydOOrlQ_yHN"
      },
      "outputs": [],
      "source": [
        "diccionario={}\n",
        "nombre=input('Ingrese su nombre')\n",
        "diccionario['nom']=nombre\n",
        "edad=int(input('Ingrese su edad'))\n",
        "diccionario['ed']=edad\n",
        "direccion=input('Ingrese su direccion')\n",
        "diccionario['direc']=direccion\n",
        "telefono=int(input('Ingrese su telefono'))\n",
        "diccionario['tel']=telefono\n",
        "print(diccionario.get('nom')+' ' +'tiene'+ ' ' +str(diccionario.get('ed'))+' '+'años,'+' '+'vive en'+' ' +diccionario.get('direc')+' ' +'y su numero de telefono es'+' ' +str(diccionario.get('tel')))\n"
      ]
    },
    {
      "cell_type": "code",
      "source": [
        "from datetime import datetime\n",
        "fecha=input('Ingrese fecha de hoy en formato dd/mm/AAAA')\n",
        "fecha2=datetime.strptime(fecha, '%d/%m/%Y')\n",
        "fechan=input('Ingrese fecha de nacimiento en formato dd/mm/AAAA')\n",
        "fecha3=datetime.strptime(fechan, '%d/%m/%Y')\n",
        "total=(fecha2-fecha3).days\n",
        "print(total) "
      ],
      "metadata": {
        "id": "6HQ5DTnk_8n3"
      },
      "execution_count": null,
      "outputs": []
    },
    {
      "cell_type": "code",
      "source": [
        "dic1={}\n",
        "dic2={}\n",
        "d=0\n",
        "c=True\n",
        "while c:\n",
        "  opcion=int(input('opcion 2 salir 1 agregar'))\n",
        "  if opcion == 1:\n",
        "    a=input('Color favorito')\n",
        "    b=input('Comida favorita')\n",
        "    c=input('Cancion preferida')\n",
        "\n",
        "    dic2['Dato1']=a\n",
        "    dic2['Dato2']=b\n",
        "    dic2['Dato3']=c\n",
        "\n",
        "    dic1[d]=dic2\n",
        "    dic2={}\n",
        "    d+=1\n",
        "  else:\n",
        "    c=False\n",
        "\n",
        "print(dic1)\n",
        "ma=max(dic1)\n",
        "mn=min(dic1)\n",
        "print('maximo es', dic1.get(ma),'minimo es', dic1.get(mn))  "
      ],
      "metadata": {
        "id": "e0PjvfH-ADWI"
      },
      "execution_count": null,
      "outputs": []
    }
  ]
}