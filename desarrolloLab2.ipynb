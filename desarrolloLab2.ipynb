{
  "nbformat": 4,
  "nbformat_minor": 0,
  "metadata": {
    "colab": {
      "provenance": [],
      "include_colab_link": true
    },
    "kernelspec": {
      "name": "python3",
      "display_name": "Python 3"
    },
    "language_info": {
      "name": "python"
    }
  },
  "cells": [
    {
      "cell_type": "markdown",
      "metadata": {
        "id": "view-in-github",
        "colab_type": "text"
      },
      "source": [
        "<a href=\"https://colab.research.google.com/github/osman3742/Programaci-nG_12-2022-II/blob/main/desarrolloLab2.ipynb\" target=\"_parent\"><img src=\"https://colab.research.google.com/assets/colab-badge.svg\" alt=\"Open In Colab\"/></a>"
      ]
    },
    {
      "cell_type": "markdown",
      "source": [
        "1. Define a procedure histogram () that takes a list of whole numbers and prints a histogram on the screen. Example: procedure ([4, 9, 7]) should print the following:"
      ],
      "metadata": {
        "id": "67dQbN7suVUx"
      }
    },
    {
      "cell_type": "code",
      "source": [
        "#sistema para determinar si un numero es par o impar#\n",
        "n = float((input(\"ingrese un numero: \")))   #se ingresa un numero, ya sea entero o irracional#\n",
        "if n % 2 == 0:                              #se ejecuta la division entre dos del numero ingresado#\n",
        "  print(\"el numero\", n , \"es par \")         #si el residuo de la division da cero, el numero se clasificara como par# \n",
        "else:\n",
        "  print(\"el numero\", n, \"es impar\")         #si la condicion anterior no se cumple, se imprimira la condicion de numero impar#\n"
      ],
      "metadata": {
        "id": "3sRjzb17mfYJ"
      },
      "execution_count": null,
      "outputs": []
    },
    {
      "cell_type": "code",
      "source": [
        "a=True\n",
        "b=0\n",
        "while a :\n",
        "  print(b)\n",
        "  b+=1\n",
        "  if b > 8:\n",
        "    a=False"
      ],
      "metadata": {
        "id": "8VEAqJPCmmYJ"
      },
      "execution_count": null,
      "outputs": []
    },
    {
      "cell_type": "code",
      "source": [
        "#sistema para determinar si un numero es par o impar#\n",
        "n = float((input(\"ingrese un numero: \")))   #se ingresa un numero, ya sea entero o irracional#\n",
        "if n % 2 == 0:                              #se ejecuta la division entre dos del numero ingresado#\n",
        "  print(\"el numero\", n , \"es par \")\n",
        "else:\n",
        "  print(\"el numero\", n, \"es impar\")         #si la condicion anterior no se cumple, se imprimira la condicion de numero impar#"
      ],
      "metadata": {
        "id": "s2OwSGVim1Vv"
      },
      "execution_count": null,
      "outputs": []
    },
    {
      "cell_type": "code",
      "source": [
        "def histogram(inputList):\n",
        "\n",
        "    for i in range(len(inputList)):\n",
        "        print (inputList[i]*'*')\n",
        "\n",
        "\n",
        "List = [4,9,7]\n",
        "\n",
        "histogram(List)"
      ],
      "metadata": {
        "colab": {
          "base_uri": "https://localhost:8080/"
        },
        "id": "qhIl9lSC1HYy",
        "outputId": "f9bd4bab-d4fb-4f4f-a86a-3cd307b320c8"
      },
      "execution_count": null,
      "outputs": [
        {
          "output_type": "stream",
          "name": "stdout",
          "text": [
            "****\n",
            "*********\n",
            "*******\n"
          ]
        }
      ]
    },
    {
      "cell_type": "markdown",
      "source": [
        "2. Write a longer_long () function that takes a list of words and returns the longest.\n"
      ],
      "metadata": {
        "id": "0gTpUGyYuBLq"
      }
    },
    {
      "cell_type": "code",
      "source": [
        "def longestLength(a): \n",
        "    max1 = len(a[0]) \n",
        "    temp = a[0] \n",
        "  \n",
        "    \n",
        "    for i in a: \n",
        "        if(len(i) > max1): \n",
        "  \n",
        "            max1 = len(i) \n",
        "            temp = i \n",
        "  \n",
        "    print(\"La palabra con mayor longitud es:\", temp, \n",
        "          \" y su longitud es: \", max1) \n",
        "  \n",
        "  \n",
        "a = [\"Gabriela\", \"Oscar\", \"Felipe\", \"Laura\"] \n",
        "longestLength(a) "
      ],
      "metadata": {
        "colab": {
          "base_uri": "https://localhost:8080/"
        },
        "id": "D_jBjxj3z6Ok",
        "outputId": "fc68c3f6-7510-40db-c97e-4ce87ef80497"
      },
      "execution_count": null,
      "outputs": [
        {
          "output_type": "stream",
          "name": "stdout",
          "text": [
            "La palabra con mayor longitud es: Gabriela  y su longitud es:  8\n"
          ]
        }
      ]
    },
    {
      "cell_type": "markdown",
      "source": [
        "3. Write a program that tells the user to enter a string. The program has to evaluate the string and say how many capital letters it has."
      ],
      "metadata": {
        "id": "5KG0_ZXA4hhj"
      }
    },
    {
      "cell_type": "code",
      "source": [
        "def filt_words(lista, n):\n",
        "  cadena=input('ingrese una cadena')\n",
        "\n",
        "  cadena = cadena.replace(' ', '')\n",
        "  cont = 0\n",
        "  for i in n:\n",
        "      if i == i.upper():\n",
        "       cont += 1\n",
        "print('cantidad de mayúsculas: ', cont)"
      ],
      "metadata": {
        "colab": {
          "base_uri": "https://localhost:8080/",
          "height": 200
        },
        "id": "wx_ik5pW4pUe",
        "outputId": "4b794abb-108f-42b3-c328-bb735225fd3d"
      },
      "execution_count": null,
      "outputs": [
        {
          "output_type": "error",
          "ename": "NameError",
          "evalue": "ignored",
          "traceback": [
            "\u001b[0;31m---------------------------------------------------------------------------\u001b[0m",
            "\u001b[0;31mNameError\u001b[0m                                 Traceback (most recent call last)",
            "\u001b[0;32m<ipython-input-63-bd7cb8f029b9>\u001b[0m in \u001b[0;36m<module>\u001b[0;34m\u001b[0m\n\u001b[1;32m      7\u001b[0m       \u001b[0;32mif\u001b[0m \u001b[0mi\u001b[0m \u001b[0;34m==\u001b[0m \u001b[0mi\u001b[0m\u001b[0;34m.\u001b[0m\u001b[0mupper\u001b[0m\u001b[0;34m(\u001b[0m\u001b[0;34m)\u001b[0m\u001b[0;34m:\u001b[0m\u001b[0;34m\u001b[0m\u001b[0;34m\u001b[0m\u001b[0m\n\u001b[1;32m      8\u001b[0m        \u001b[0mcont\u001b[0m \u001b[0;34m+=\u001b[0m \u001b[0;36m1\u001b[0m\u001b[0;34m\u001b[0m\u001b[0;34m\u001b[0m\u001b[0m\n\u001b[0;32m----> 9\u001b[0;31m \u001b[0mprint\u001b[0m\u001b[0;34m(\u001b[0m\u001b[0;34m'cantidad de mayúsculas: '\u001b[0m\u001b[0;34m,\u001b[0m \u001b[0mcont\u001b[0m\u001b[0;34m)\u001b[0m\u001b[0;34m\u001b[0m\u001b[0;34m\u001b[0m\u001b[0m\n\u001b[0m",
            "\u001b[0;31mNameError\u001b[0m: name 'cont' is not defined"
          ]
        }
      ]
    },
    {
      "cell_type": "markdown",
      "source": [
        "4.Build a small program that converts binary numbers to integers. Example:"
      ],
      "metadata": {
        "id": "uVO-MB4OMyU5"
      }
    },
    {
      "cell_type": "code",
      "source": [
        "Num_entero= int(input(\"INGRESE  Binario \\n\"))\n",
        "bIN_NUM=bin(Num_entero)\n",
        "entero=int(bIN_NUM,2)\n",
        "print(f\"Su numero en entero es {entero}\")"
      ],
      "metadata": {
        "id": "g7HPeqQpM-uV"
      },
      "execution_count": null,
      "outputs": []
    },
    {
      "cell_type": "markdown",
      "source": [
        "5.Create a function count_vols (), which receives a word and counts how many letters \"a\" it has, how many letters \"e\" it has, and so on until all the vowels are completed."
      ],
      "metadata": {
        "id": "yK6FYEJ9NC32"
      }
    },
    {
      "cell_type": "code",
      "source": [
        "string = input(\"Ingrese texto programa para contar palabras  : \")\n",
        "palabra = []\n",
        "\n",
        "palabra = string.split() \n",
        "myDict = {}\n",
        "for i in palabra:\n",
        "    myDict[i] = palabra.count(i)\n",
        "\n",
        "print(\"Dictionary Items  :  \",  myDict)\n",
        "\n"
      ],
      "metadata": {
        "id": "Ro5dqKaKNI6f"
      },
      "execution_count": null,
      "outputs": []
    },
    {
      "cell_type": "markdown",
      "source": [
        "6.Write a function is leap () that determines if a given year is a leap year"
      ],
      "metadata": {
        "id": "FM-FZbIiNcf1"
      }
    },
    {
      "cell_type": "code",
      "source": [
        "def es_bisiesto(ano: int) -> bool:\n",
        "    return ano % 4 == 0 and (ano % 100 != 0 or ano % 400 == 0)\n",
        "anoi= int(input(\"Ingrese ano\"))\n",
        "print(es_bisiesto(anoi))"
      ],
      "metadata": {
        "id": "VYBUZNKsN44t"
      },
      "execution_count": null,
      "outputs": []
    },
    {
      "cell_type": "markdown",
      "source": [
        "7.Write a program that asks for two words and tells whether or not they rhyme. If the last three letters match, you have to say that they rhyme. If only the last two coincide, he has to say that they rhyme a bit and if not, that they do not rhyme."
      ],
      "metadata": {
        "id": "GvxDAvbSpJJQ"
      }
    },
    {
      "cell_type": "code",
      "source": [
        "\n",
        "palabra1 = input(\"Escriba la primer palabra: \")\n",
        "palabra2 = input(\"Escriba la segunda palabra: \")\n",
        "\n",
        "ult_tres_p1 = palabra1[-3:] \n",
        "ult_tres_p2 = palabra2[-3:]\n",
        "ult_dos_p1 = palabra1[-2:]\n",
        "ult_dos_p2 = palabra2[-2:]\n",
        "\n",
        "if ult_tres_p1 == ult_tres_p2:\n",
        "    print(\"Las palabras riman\")\n",
        "elif ult_dos_p1 == ult_dos_p2:\n",
        "    print(\"Las palabras riman un poco\")\n",
        "else:\n",
        "    print(\"Las palabras no riman\")"
      ],
      "metadata": {
        "id": "Ye7XaJ2NnBTm"
      },
      "execution_count": null,
      "outputs": []
    }
  ]
}