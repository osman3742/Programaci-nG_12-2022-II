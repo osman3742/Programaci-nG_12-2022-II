{
  "nbformat": 4,
  "nbformat_minor": 0,
  "metadata": {
    "colab": {
      "provenance": []
    },
    "kernelspec": {
      "name": "python3",
      "display_name": "Python 3"
    },
    "language_info": {
      "name": "python"
    }
  },
  "cells": [
    {
      "cell_type": "code",
      "source": [
        "1 #sistema para determinar si un numero es par o impar#\n",
        "n = float((input(\"ingrese un numero: \")))   #se ingresa un numero, ya sea entero o irracional#\n",
        "if n % 2 == 0:                              #se ejecuta la division entre dos del numero ingresado#\n",
        "  print(\"el numero\", n , \"es par \")         #si el residuo de la division da cero, el numero se clasificara como par# \n",
        "else:\n",
        "  print(\"el numero\", n, \"es impar\")         #si la condicion anterior no se cumple, se imprimira la condicion de numero impar#"
      ],
      "metadata": {
        "id": "B0_zJIaZd9WH",
        "colab": {
          "base_uri": "https://localhost:8080/"
        },
        "outputId": "d184ad9a-13c1-4361-ac6a-d8c8b35af770"
      },
      "execution_count": 12,
      "outputs": [
        {
          "output_type": "stream",
          "name": "stdout",
          "text": [
            "ingrese un numero: 4\n",
            "el numero 4.0 es par \n"
          ]
        }
      ]
    },
    {
      "cell_type": "code",
      "source": [
        "# 2 Ahora desarrollamos un algorirmo que nos de un error si no se cumple la condicion.\n",
        "\n",
        "Numero=float(input(\"Ingrese un numero cualquiera:\")) #Se idealiza la entrada de las variables a decision del que use el codigo.\n",
        "Pri=float(input(\"Ingrese el valor porcentual:\"))\n",
        "\n",
        "RI=float(Pri*Numero) #Se registra el calculo matematico deseado, donde Pri; es el porcentaje inicial.\n",
        "RF=(RI/100) #Donde RF; es elresultado final de la operacion.\n",
        "\n",
        "if Pri < 0:\n",
        "  print(\"No valido\")\n",
        "else:\n",
        "  print(input(\"Ingrese el valor porcentual:\"))\n",
        "  \n",
        "  if Pri> 100:\n",
        "    print(\"No valido\")\n",
        "  else:\n",
        "    print(input(\"Ingrese el valor porcentual:\"))\n",
        "\n",
        "print(\"El\",Pri,\"porciento de\",Numero,\"es:\",RF)\n"
      ],
      "metadata": {
        "colab": {
          "base_uri": "https://localhost:8080/",
          "height": 380
        },
        "id": "SQtzgJJSeSjs",
        "outputId": "326670c1-7007-4be4-e629-a77f496d9556"
      },
      "execution_count": 20,
      "outputs": [
        {
          "output_type": "error",
          "ename": "KeyboardInterrupt",
          "evalue": "ignored",
          "traceback": [
            "\u001b[0;31m---------------------------------------------------------------------------\u001b[0m",
            "\u001b[0;31mKeyboardInterrupt\u001b[0m                         Traceback (most recent call last)",
            "\u001b[0;32m<ipython-input-20-1b676aea99e1>\u001b[0m in \u001b[0;36m<module>\u001b[0;34m\u001b[0m\n\u001b[1;32m      1\u001b[0m \u001b[0;31m# 2 Ahora desarrollamos un algorirmo que nos de un error si no se cumple la condicion.\u001b[0m\u001b[0;34m\u001b[0m\u001b[0;34m\u001b[0m\u001b[0;34m\u001b[0m\u001b[0m\n\u001b[1;32m      2\u001b[0m \u001b[0;34m\u001b[0m\u001b[0m\n\u001b[0;32m----> 3\u001b[0;31m \u001b[0mNumero\u001b[0m\u001b[0;34m=\u001b[0m\u001b[0mfloat\u001b[0m\u001b[0;34m(\u001b[0m\u001b[0minput\u001b[0m\u001b[0;34m(\u001b[0m\u001b[0;34m\"Ingrese un numero cualquiera:\"\u001b[0m\u001b[0;34m)\u001b[0m\u001b[0;34m)\u001b[0m \u001b[0;31m#Se idealiza la entrada de las variables a decision del que use el codigo.\u001b[0m\u001b[0;34m\u001b[0m\u001b[0;34m\u001b[0m\u001b[0m\n\u001b[0m\u001b[1;32m      4\u001b[0m \u001b[0mPri\u001b[0m\u001b[0;34m=\u001b[0m\u001b[0mfloat\u001b[0m\u001b[0;34m(\u001b[0m\u001b[0minput\u001b[0m\u001b[0;34m(\u001b[0m\u001b[0;34m\"Ingrese el valor porcentual:\"\u001b[0m\u001b[0;34m)\u001b[0m\u001b[0;34m)\u001b[0m\u001b[0;34m\u001b[0m\u001b[0;34m\u001b[0m\u001b[0m\n\u001b[1;32m      5\u001b[0m \u001b[0;34m\u001b[0m\u001b[0m\n",
            "\u001b[0;32m/usr/local/lib/python3.7/dist-packages/ipykernel/kernelbase.py\u001b[0m in \u001b[0;36mraw_input\u001b[0;34m(self, prompt)\u001b[0m\n\u001b[1;32m    861\u001b[0m             \u001b[0mself\u001b[0m\u001b[0;34m.\u001b[0m\u001b[0m_parent_ident\u001b[0m\u001b[0;34m,\u001b[0m\u001b[0;34m\u001b[0m\u001b[0;34m\u001b[0m\u001b[0m\n\u001b[1;32m    862\u001b[0m             \u001b[0mself\u001b[0m\u001b[0;34m.\u001b[0m\u001b[0m_parent_header\u001b[0m\u001b[0;34m,\u001b[0m\u001b[0;34m\u001b[0m\u001b[0;34m\u001b[0m\u001b[0m\n\u001b[0;32m--> 863\u001b[0;31m             \u001b[0mpassword\u001b[0m\u001b[0;34m=\u001b[0m\u001b[0;32mFalse\u001b[0m\u001b[0;34m,\u001b[0m\u001b[0;34m\u001b[0m\u001b[0;34m\u001b[0m\u001b[0m\n\u001b[0m\u001b[1;32m    864\u001b[0m         )\n\u001b[1;32m    865\u001b[0m \u001b[0;34m\u001b[0m\u001b[0m\n",
            "\u001b[0;32m/usr/local/lib/python3.7/dist-packages/ipykernel/kernelbase.py\u001b[0m in \u001b[0;36m_input_request\u001b[0;34m(self, prompt, ident, parent, password)\u001b[0m\n\u001b[1;32m    902\u001b[0m             \u001b[0;32mexcept\u001b[0m \u001b[0mKeyboardInterrupt\u001b[0m\u001b[0;34m:\u001b[0m\u001b[0;34m\u001b[0m\u001b[0;34m\u001b[0m\u001b[0m\n\u001b[1;32m    903\u001b[0m                 \u001b[0;31m# re-raise KeyboardInterrupt, to truncate traceback\u001b[0m\u001b[0;34m\u001b[0m\u001b[0;34m\u001b[0m\u001b[0;34m\u001b[0m\u001b[0m\n\u001b[0;32m--> 904\u001b[0;31m                 \u001b[0;32mraise\u001b[0m \u001b[0mKeyboardInterrupt\u001b[0m\u001b[0;34m(\u001b[0m\u001b[0;34m\"Interrupted by user\"\u001b[0m\u001b[0;34m)\u001b[0m \u001b[0;32mfrom\u001b[0m \u001b[0;32mNone\u001b[0m\u001b[0;34m\u001b[0m\u001b[0;34m\u001b[0m\u001b[0m\n\u001b[0m\u001b[1;32m    905\u001b[0m             \u001b[0;32mexcept\u001b[0m \u001b[0mException\u001b[0m \u001b[0;32mas\u001b[0m \u001b[0me\u001b[0m\u001b[0;34m:\u001b[0m\u001b[0;34m\u001b[0m\u001b[0;34m\u001b[0m\u001b[0m\n\u001b[1;32m    906\u001b[0m                 \u001b[0mself\u001b[0m\u001b[0;34m.\u001b[0m\u001b[0mlog\u001b[0m\u001b[0;34m.\u001b[0m\u001b[0mwarning\u001b[0m\u001b[0;34m(\u001b[0m\u001b[0;34m\"Invalid Message:\"\u001b[0m\u001b[0;34m,\u001b[0m \u001b[0mexc_info\u001b[0m\u001b[0;34m=\u001b[0m\u001b[0;32mTrue\u001b[0m\u001b[0;34m)\u001b[0m\u001b[0;34m\u001b[0m\u001b[0;34m\u001b[0m\u001b[0m\n",
            "\u001b[0;31mKeyboardInterrupt\u001b[0m: Interrupted by user"
          ]
        }
      ]
    },
    {
      "cell_type": "code",
      "source": [
        "3 #sistema para determinar si un numero es par o impar#\n",
        "n = float((input(\"ingrese un numero: \")))   #se ingresa un numero, ya sea entero o irracional#\n",
        "if n % 2 == 0:                              #se ejecuta la division entre dos del numero ingresado#\n",
        "  print(\"el numero\", n , \"es par \")         #si el residuo de la division da cero, el numero se clasificara como par# \n",
        "  for i in range(0, n):\n",
        "    print(entero(range))\n",
        "\n",
        "else:\n",
        "  print(\"el numero\", n, \"es impar\")         #si la condicion anterior no se cumple, se imprimira la condicion de numero impar#"
      ],
      "metadata": {
        "colab": {
          "base_uri": "https://localhost:8080/",
          "height": 269
        },
        "id": "koTQEnOUcqVW",
        "outputId": "35607e83-beda-4dab-ee0e-eccea26d4d15"
      },
      "execution_count": 33,
      "outputs": [
        {
          "output_type": "stream",
          "name": "stdout",
          "text": [
            "ingrese un numero: 8\n",
            "el numero 8.0 es par \n"
          ]
        },
        {
          "output_type": "error",
          "ename": "TypeError",
          "evalue": "ignored",
          "traceback": [
            "\u001b[0;31m---------------------------------------------------------------------------\u001b[0m",
            "\u001b[0;31mTypeError\u001b[0m                                 Traceback (most recent call last)",
            "\u001b[0;32m<ipython-input-33-22552eae4cc0>\u001b[0m in \u001b[0;36m<module>\u001b[0;34m\u001b[0m\n\u001b[1;32m      3\u001b[0m \u001b[0;32mif\u001b[0m \u001b[0mn\u001b[0m \u001b[0;34m%\u001b[0m \u001b[0;36m2\u001b[0m \u001b[0;34m==\u001b[0m \u001b[0;36m0\u001b[0m\u001b[0;34m:\u001b[0m                              \u001b[0;31m#se ejecuta la division entre dos del numero ingresado#\u001b[0m\u001b[0;34m\u001b[0m\u001b[0;34m\u001b[0m\u001b[0m\n\u001b[1;32m      4\u001b[0m   \u001b[0mprint\u001b[0m\u001b[0;34m(\u001b[0m\u001b[0;34m\"el numero\"\u001b[0m\u001b[0;34m,\u001b[0m \u001b[0mn\u001b[0m \u001b[0;34m,\u001b[0m \u001b[0;34m\"es par \"\u001b[0m\u001b[0;34m)\u001b[0m         \u001b[0;31m#si el residuo de la division da cero, el numero se clasificara como par#\u001b[0m\u001b[0;34m\u001b[0m\u001b[0;34m\u001b[0m\u001b[0m\n\u001b[0;32m----> 5\u001b[0;31m   \u001b[0;32mfor\u001b[0m \u001b[0mi\u001b[0m \u001b[0;32min\u001b[0m \u001b[0mrange\u001b[0m\u001b[0;34m(\u001b[0m\u001b[0;36m0\u001b[0m\u001b[0;34m,\u001b[0m \u001b[0mn\u001b[0m\u001b[0;34m)\u001b[0m\u001b[0;34m:\u001b[0m\u001b[0;34m\u001b[0m\u001b[0;34m\u001b[0m\u001b[0m\n\u001b[0m\u001b[1;32m      6\u001b[0m     \u001b[0mprint\u001b[0m\u001b[0;34m(\u001b[0m\u001b[0mentero\u001b[0m\u001b[0;34m(\u001b[0m\u001b[0mrange\u001b[0m\u001b[0;34m)\u001b[0m\u001b[0;34m)\u001b[0m\u001b[0;34m\u001b[0m\u001b[0;34m\u001b[0m\u001b[0m\n\u001b[1;32m      7\u001b[0m \u001b[0;34m\u001b[0m\u001b[0m\n",
            "\u001b[0;31mTypeError\u001b[0m: 'float' object cannot be interpreted as an integer"
          ]
        }
      ]
    },
    {
      "cell_type": "code",
      "execution_count": 15,
      "metadata": {
        "colab": {
          "base_uri": "https://localhost:8080/"
        },
        "id": "I4_IAa3XXLGJ",
        "outputId": "b6b1ef5b-d87c-4cc3-a910-5084397ac811"
      },
      "outputs": [
        {
          "output_type": "stream",
          "name": "stdout",
          "text": [
            "Ingrese un numero (a)\n",
            "6\n",
            "1\n",
            "2\n",
            "3\n",
            "4\n",
            "5\n",
            "6\n",
            "La suma es: 21\n"
          ]
        }
      ],
      "source": [
        "# 4 \n",
        "print(\"Ingrese un numero (a)\")      # Pide al usuario que ingrese un numero\n",
        "a = int(input())                    # Variable a de tipo entero se almacena\n",
        "b=0                                 # Vareable suma de todos los números\n",
        "for i in range(1, a+1 ):            # Ciclo for interacción en variable i entre el rango (1, a+1) como empieza el ciclo for en 0 sele suma 1 a la variable a\n",
        "    \n",
        "  print(i)                          # Variable de interación \n",
        "  b=b+i                             # Variable a la cual se le suma 1 para que el ciclo for no arranque en 0\n",
        "    \n",
        "print(\"La suma es:\" ,b)             # Imprime la suma de todos los numeros danto el resultado\n",
        "\n",
        "\n",
        "\n"
      ]
    }
  ]
}